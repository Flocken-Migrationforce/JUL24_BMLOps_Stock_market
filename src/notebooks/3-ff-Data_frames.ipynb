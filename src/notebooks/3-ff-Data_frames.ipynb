{
 "cells": [
  {
   "cell_type": "markdown",
   "source": [
    "JSON cleansing : remove some words at the start by extracting the JSON content of the JSON-file :"
   ],
   "metadata": {
    "collapsed": false
   },
   "id": "4462319cb3b16779"
  },
  {
   "cell_type": "code",
   "execution_count": 2,
   "outputs": [],
   "source": [
    "import json, re, os\n",
    "\n",
    "def fix_json(json_string):\n",
    "    # Replace single quotes with double quotes\n",
    "    json_string = json_string.replace(\"'\", '\"')\n",
    "    \n",
    "    ## DONT USE. \n",
    "      #  Ensure the JSON string is valid by checking for unescaped double quotes inside the JSON\n",
    "      # json_string = re.sub(r'(?<!\\\\)\"', r'\\\"', json_string)\n",
    "    ##\n",
    "    \n",
    "    # Add double quotes around property names if missing\n",
    "    json_string = re.sub(r'(\\w+):', r'\"\\1\":', json_string)\n",
    "\n",
    "    \n",
    "    return json_string\n",
    "\n",
    "\n",
    "def extract_json_from_file(input_file):\n",
    "    \"\"\"\n",
    "    Cleans JSON file with regex extraction in between square brackets [ ].\n",
    "    \n",
    "    :param input_file: string. Name of the file to cleanse.\n",
    "    :param output_file: string. Name of the file after cleansing.\n",
    "    :return: None.\n",
    "\n",
    "    Example :\n",
    "    input_file = 'MY_FILE.json'  # Replace with your input file name\n",
    "    will export a cleansed file as 'MY_FILE_cleaned.json'\n",
    "    \"\"\"\n",
    "    \n",
    "    # Generate the output filename\n",
    "    file_name, file_extension = os.path.splitext(input_file)\n",
    "    output_file = f\"{file_name}_cleansed{file_extension}\"\n",
    "    \n",
    "    \n",
    "    with open(input_file, 'r') as file:\n",
    "        content = file.read()\n",
    "\n",
    "    # Use regex to find the JSON part, ignoring some words at the start like \"Historical options, success, \"\n",
    "    json_match = re.search(r'\\[.*\\]', content)\n",
    "    \n",
    "    if json_match:\n",
    "        json_string = json_match.group()\n",
    "        \n",
    "        # Fix the JSON string\n",
    "        fixed_json_string = fix_json(json_string)\n",
    "        \n",
    "        # Parse the JSON string to ensure it's valid\n",
    "        try:\n",
    "            json_data = json.loads(fixed_json_string)\n",
    "            \n",
    "            # Write the formatted JSON to the output file\n",
    "            with open(output_file, 'w') as file:\n",
    "                json.dump(json_data, file, indent=2)\n",
    "            \n",
    "            print(f\"JSON content extracted and saved to {output_file}\")\n",
    "        except json.JSONDecodeError as e:\n",
    "            print(f\"Error decoding JSON: {e}\")\n",
    "    else:\n",
    "        print(\"No JSON content found in the file.\")"
   ],
   "metadata": {
    "collapsed": false,
    "ExecuteTime": {
     "end_time": "2024-07-25T07:55:01.068808300Z",
     "start_time": "2024-07-25T07:55:01.064640600Z"
    }
   },
   "id": "e0b5aca18f91bfaa"
  },
  {
   "cell_type": "markdown",
   "source": [
    "Convert data file to data frames :"
   ],
   "metadata": {
    "collapsed": false
   },
   "id": "dbebfc9714699ead"
  },
  {
   "cell_type": "code",
   "execution_count": 4,
   "outputs": [
    {
     "name": "stdout",
     "output_type": "stream",
     "text": [
      "JSON content extracted and saved to ../data/1.0-demo_cleansed.json\n",
      "JSON content extracted and saved to ../data/1.0-AAPL_cleansed.json\n",
      "JSON content extracted and saved to ../data/1.0-GOOGL_cleansed.json\n"
     ]
    }
   ],
   "source": [
    "import pandas as pd\n",
    "import numpy as np\n",
    "import json, requests\n",
    "\n",
    "from MyAPIKey import api_key\n",
    "realtime = \"HISTORICAL_OPTIONS\"\n",
    "\n",
    "data_demo = extract_json_from_file(\"../data/1.0-demo.json\")\n",
    "df_demo = pd.read_json(\"../data/1.0-demo_cleansed.json\")\n",
    "# df_demo = pd.read_json(f\"https://www.alphavantage.co/query?function={realtime}&symbol=IBM&apikey={api_key}&datatype=json\")\n",
    "# realtime = \"HISTORICAL_OPTIONS\"\n",
    "# requests.get(f'https://www.alphavantage.co/query?function={realtime}&symbol=IBM&apikey={api_key}&datatype=json').json()\n",
    "\n",
    "data_AAPL = extract_json_from_file(\"../data/1.0-AAPL.json\")\n",
    "df_AAPL = pd.read_json(\"../data/1.0-AAPL_cleansed.json\")\n",
    "\n",
    "\n",
    "data_GOOGL = pd.read_json(\"../data/1.0-GOOGL.json\")\n",
    "df_GOOGL = pd.read_json(\"../data/1.0-GOOGL_cleansed.json\")\n"
   ],
   "metadata": {
    "collapsed": false,
    "ExecuteTime": {
     "end_time": "2024-07-25T07:56:09.499527800Z",
     "start_time": "2024-07-25T07:56:09.189698300Z"
    }
   },
   "id": "22368b796772ce59"
  },
  {
   "cell_type": "markdown",
   "source": [
    "First look into the data :"
   ],
   "metadata": {
    "collapsed": false
   },
   "id": "8a81bb7a35d6067b"
  },
  {
   "cell_type": "code",
   "execution_count": 6,
   "outputs": [
    {
     "name": "stdout",
     "output_type": "stream",
     "text": [
      "916\n",
      "2112\n",
      "1798\n"
     ]
    },
    {
     "data": {
      "text/plain": "            contractID symbol  expiration  strike  type  last   mark   bid  \\\n0   IBM240726C00095000    IBM  2024-07-26    95.0  call  0.00  89.10  87.0   \n1   IBM240726P00095000    IBM  2024-07-26    95.0   put  0.00   0.01   0.0   \n2   IBM240726C00100000    IBM  2024-07-26   100.0  call  0.00  84.10  82.0   \n3   IBM240726P00100000    IBM  2024-07-26   100.0   put  0.00   0.01   0.0   \n4   IBM240726C00105000    IBM  2024-07-26   105.0  call  0.00  79.10  77.0   \n5   IBM240726P00105000    IBM  2024-07-26   105.0   put  0.00   0.01   0.0   \n6   IBM240726C00110000    IBM  2024-07-26   110.0  call  0.00  74.20  72.0   \n7   IBM240726P00110000    IBM  2024-07-26   110.0   put  0.00   0.01   0.0   \n8   IBM240726C00115000    IBM  2024-07-26   115.0  call  0.00  69.35  67.0   \n9   IBM240726P00115000    IBM  2024-07-26   115.0   put  0.00   0.01   0.0   \n10  IBM240726C00120000    IBM  2024-07-26   120.0  call  0.00  64.10  62.0   \n11  IBM240726P00120000    IBM  2024-07-26   120.0   put  0.00   0.01   0.0   \n12  IBM240726C00125000    IBM  2024-07-26   125.0  call  0.00  59.23  57.0   \n13  IBM240726P00125000    IBM  2024-07-26   125.0   put  0.01   0.01   0.0   \n\n    bid_size    ask  ask_size  volume  open_interest       date  \\\n0         10  91.20        10       0              0 2024-07-24   \n1          0   2.13         7       0              0 2024-07-24   \n2          2  86.20        10       0              0 2024-07-24   \n3          0   2.13         3       0              0 2024-07-24   \n4          2  81.20        10       0              0 2024-07-24   \n5          0   1.27         5       0            275 2024-07-24   \n6         10  76.40        10       0              0 2024-07-24   \n7          0   1.27        11       0             11 2024-07-24   \n8          2  71.70        10       0              0 2024-07-24   \n9          0   1.27        11       0             95 2024-07-24   \n10         2  66.20        10       0              0 2024-07-24   \n11         0   1.27        37       0              0 2024-07-24   \n12         2  61.45         1       0              0 2024-07-24   \n13         0   1.13         2       1             17 2024-07-24   \n\n    implied_volatility    delta    gamma    theta     vega      rho  \n0              3.46167  0.99663  0.00022 -0.48730  0.00138  0.00517  \n1              2.95253 -0.00086  0.00007 -0.10715  0.00040 -0.00001  \n2              3.20222  0.99646  0.00024 -0.47602  0.00145  0.00544  \n3              2.73623 -0.00092  0.00008 -0.10636  0.00043 -0.00001  \n4              2.95558  0.99627  0.00028 -0.46467  0.00152  0.00571  \n5              2.53014 -0.00100  0.00010 -0.10553  0.00046 -0.00001  \n6              3.12281  0.99043  0.00060 -1.05303  0.00349  0.00592  \n7              2.33304 -0.00108  0.00011 -0.10459  0.00049 -0.00001  \n8              3.19033  0.98257  0.00099 -1.76735  0.00587  0.00611  \n9              2.14432 -0.00117  0.00013 -0.10364  0.00053 -0.00001  \n10             2.28014  0.99559  0.00042 -0.42958  0.00176  0.00653  \n11             1.96292 -0.00128  0.00016 -0.10256  0.00057 -0.00001  \n12             2.47602  0.98621  0.00104 -1.14916  0.00480  0.00670  \n13             1.78823 -0.00140  0.00019 -0.10137  0.00062 -0.00001  ",
      "text/html": "<div>\n<style scoped>\n    .dataframe tbody tr th:only-of-type {\n        vertical-align: middle;\n    }\n\n    .dataframe tbody tr th {\n        vertical-align: top;\n    }\n\n    .dataframe thead th {\n        text-align: right;\n    }\n</style>\n<table border=\"1\" class=\"dataframe\">\n  <thead>\n    <tr style=\"text-align: right;\">\n      <th></th>\n      <th>contractID</th>\n      <th>symbol</th>\n      <th>expiration</th>\n      <th>strike</th>\n      <th>type</th>\n      <th>last</th>\n      <th>mark</th>\n      <th>bid</th>\n      <th>bid_size</th>\n      <th>ask</th>\n      <th>ask_size</th>\n      <th>volume</th>\n      <th>open_interest</th>\n      <th>date</th>\n      <th>implied_volatility</th>\n      <th>delta</th>\n      <th>gamma</th>\n      <th>theta</th>\n      <th>vega</th>\n      <th>rho</th>\n    </tr>\n  </thead>\n  <tbody>\n    <tr>\n      <th>0</th>\n      <td>IBM240726C00095000</td>\n      <td>IBM</td>\n      <td>2024-07-26</td>\n      <td>95.0</td>\n      <td>call</td>\n      <td>0.00</td>\n      <td>89.10</td>\n      <td>87.0</td>\n      <td>10</td>\n      <td>91.20</td>\n      <td>10</td>\n      <td>0</td>\n      <td>0</td>\n      <td>2024-07-24</td>\n      <td>3.46167</td>\n      <td>0.99663</td>\n      <td>0.00022</td>\n      <td>-0.48730</td>\n      <td>0.00138</td>\n      <td>0.00517</td>\n    </tr>\n    <tr>\n      <th>1</th>\n      <td>IBM240726P00095000</td>\n      <td>IBM</td>\n      <td>2024-07-26</td>\n      <td>95.0</td>\n      <td>put</td>\n      <td>0.00</td>\n      <td>0.01</td>\n      <td>0.0</td>\n      <td>0</td>\n      <td>2.13</td>\n      <td>7</td>\n      <td>0</td>\n      <td>0</td>\n      <td>2024-07-24</td>\n      <td>2.95253</td>\n      <td>-0.00086</td>\n      <td>0.00007</td>\n      <td>-0.10715</td>\n      <td>0.00040</td>\n      <td>-0.00001</td>\n    </tr>\n    <tr>\n      <th>2</th>\n      <td>IBM240726C00100000</td>\n      <td>IBM</td>\n      <td>2024-07-26</td>\n      <td>100.0</td>\n      <td>call</td>\n      <td>0.00</td>\n      <td>84.10</td>\n      <td>82.0</td>\n      <td>2</td>\n      <td>86.20</td>\n      <td>10</td>\n      <td>0</td>\n      <td>0</td>\n      <td>2024-07-24</td>\n      <td>3.20222</td>\n      <td>0.99646</td>\n      <td>0.00024</td>\n      <td>-0.47602</td>\n      <td>0.00145</td>\n      <td>0.00544</td>\n    </tr>\n    <tr>\n      <th>3</th>\n      <td>IBM240726P00100000</td>\n      <td>IBM</td>\n      <td>2024-07-26</td>\n      <td>100.0</td>\n      <td>put</td>\n      <td>0.00</td>\n      <td>0.01</td>\n      <td>0.0</td>\n      <td>0</td>\n      <td>2.13</td>\n      <td>3</td>\n      <td>0</td>\n      <td>0</td>\n      <td>2024-07-24</td>\n      <td>2.73623</td>\n      <td>-0.00092</td>\n      <td>0.00008</td>\n      <td>-0.10636</td>\n      <td>0.00043</td>\n      <td>-0.00001</td>\n    </tr>\n    <tr>\n      <th>4</th>\n      <td>IBM240726C00105000</td>\n      <td>IBM</td>\n      <td>2024-07-26</td>\n      <td>105.0</td>\n      <td>call</td>\n      <td>0.00</td>\n      <td>79.10</td>\n      <td>77.0</td>\n      <td>2</td>\n      <td>81.20</td>\n      <td>10</td>\n      <td>0</td>\n      <td>0</td>\n      <td>2024-07-24</td>\n      <td>2.95558</td>\n      <td>0.99627</td>\n      <td>0.00028</td>\n      <td>-0.46467</td>\n      <td>0.00152</td>\n      <td>0.00571</td>\n    </tr>\n    <tr>\n      <th>5</th>\n      <td>IBM240726P00105000</td>\n      <td>IBM</td>\n      <td>2024-07-26</td>\n      <td>105.0</td>\n      <td>put</td>\n      <td>0.00</td>\n      <td>0.01</td>\n      <td>0.0</td>\n      <td>0</td>\n      <td>1.27</td>\n      <td>5</td>\n      <td>0</td>\n      <td>275</td>\n      <td>2024-07-24</td>\n      <td>2.53014</td>\n      <td>-0.00100</td>\n      <td>0.00010</td>\n      <td>-0.10553</td>\n      <td>0.00046</td>\n      <td>-0.00001</td>\n    </tr>\n    <tr>\n      <th>6</th>\n      <td>IBM240726C00110000</td>\n      <td>IBM</td>\n      <td>2024-07-26</td>\n      <td>110.0</td>\n      <td>call</td>\n      <td>0.00</td>\n      <td>74.20</td>\n      <td>72.0</td>\n      <td>10</td>\n      <td>76.40</td>\n      <td>10</td>\n      <td>0</td>\n      <td>0</td>\n      <td>2024-07-24</td>\n      <td>3.12281</td>\n      <td>0.99043</td>\n      <td>0.00060</td>\n      <td>-1.05303</td>\n      <td>0.00349</td>\n      <td>0.00592</td>\n    </tr>\n    <tr>\n      <th>7</th>\n      <td>IBM240726P00110000</td>\n      <td>IBM</td>\n      <td>2024-07-26</td>\n      <td>110.0</td>\n      <td>put</td>\n      <td>0.00</td>\n      <td>0.01</td>\n      <td>0.0</td>\n      <td>0</td>\n      <td>1.27</td>\n      <td>11</td>\n      <td>0</td>\n      <td>11</td>\n      <td>2024-07-24</td>\n      <td>2.33304</td>\n      <td>-0.00108</td>\n      <td>0.00011</td>\n      <td>-0.10459</td>\n      <td>0.00049</td>\n      <td>-0.00001</td>\n    </tr>\n    <tr>\n      <th>8</th>\n      <td>IBM240726C00115000</td>\n      <td>IBM</td>\n      <td>2024-07-26</td>\n      <td>115.0</td>\n      <td>call</td>\n      <td>0.00</td>\n      <td>69.35</td>\n      <td>67.0</td>\n      <td>2</td>\n      <td>71.70</td>\n      <td>10</td>\n      <td>0</td>\n      <td>0</td>\n      <td>2024-07-24</td>\n      <td>3.19033</td>\n      <td>0.98257</td>\n      <td>0.00099</td>\n      <td>-1.76735</td>\n      <td>0.00587</td>\n      <td>0.00611</td>\n    </tr>\n    <tr>\n      <th>9</th>\n      <td>IBM240726P00115000</td>\n      <td>IBM</td>\n      <td>2024-07-26</td>\n      <td>115.0</td>\n      <td>put</td>\n      <td>0.00</td>\n      <td>0.01</td>\n      <td>0.0</td>\n      <td>0</td>\n      <td>1.27</td>\n      <td>11</td>\n      <td>0</td>\n      <td>95</td>\n      <td>2024-07-24</td>\n      <td>2.14432</td>\n      <td>-0.00117</td>\n      <td>0.00013</td>\n      <td>-0.10364</td>\n      <td>0.00053</td>\n      <td>-0.00001</td>\n    </tr>\n    <tr>\n      <th>10</th>\n      <td>IBM240726C00120000</td>\n      <td>IBM</td>\n      <td>2024-07-26</td>\n      <td>120.0</td>\n      <td>call</td>\n      <td>0.00</td>\n      <td>64.10</td>\n      <td>62.0</td>\n      <td>2</td>\n      <td>66.20</td>\n      <td>10</td>\n      <td>0</td>\n      <td>0</td>\n      <td>2024-07-24</td>\n      <td>2.28014</td>\n      <td>0.99559</td>\n      <td>0.00042</td>\n      <td>-0.42958</td>\n      <td>0.00176</td>\n      <td>0.00653</td>\n    </tr>\n    <tr>\n      <th>11</th>\n      <td>IBM240726P00120000</td>\n      <td>IBM</td>\n      <td>2024-07-26</td>\n      <td>120.0</td>\n      <td>put</td>\n      <td>0.00</td>\n      <td>0.01</td>\n      <td>0.0</td>\n      <td>0</td>\n      <td>1.27</td>\n      <td>37</td>\n      <td>0</td>\n      <td>0</td>\n      <td>2024-07-24</td>\n      <td>1.96292</td>\n      <td>-0.00128</td>\n      <td>0.00016</td>\n      <td>-0.10256</td>\n      <td>0.00057</td>\n      <td>-0.00001</td>\n    </tr>\n    <tr>\n      <th>12</th>\n      <td>IBM240726C00125000</td>\n      <td>IBM</td>\n      <td>2024-07-26</td>\n      <td>125.0</td>\n      <td>call</td>\n      <td>0.00</td>\n      <td>59.23</td>\n      <td>57.0</td>\n      <td>2</td>\n      <td>61.45</td>\n      <td>1</td>\n      <td>0</td>\n      <td>0</td>\n      <td>2024-07-24</td>\n      <td>2.47602</td>\n      <td>0.98621</td>\n      <td>0.00104</td>\n      <td>-1.14916</td>\n      <td>0.00480</td>\n      <td>0.00670</td>\n    </tr>\n    <tr>\n      <th>13</th>\n      <td>IBM240726P00125000</td>\n      <td>IBM</td>\n      <td>2024-07-26</td>\n      <td>125.0</td>\n      <td>put</td>\n      <td>0.01</td>\n      <td>0.01</td>\n      <td>0.0</td>\n      <td>0</td>\n      <td>1.13</td>\n      <td>2</td>\n      <td>1</td>\n      <td>17</td>\n      <td>2024-07-24</td>\n      <td>1.78823</td>\n      <td>-0.00140</td>\n      <td>0.00019</td>\n      <td>-0.10137</td>\n      <td>0.00062</td>\n      <td>-0.00001</td>\n    </tr>\n  </tbody>\n</table>\n</div>"
     },
     "metadata": {},
     "output_type": "display_data"
    },
    {
     "data": {
      "text/plain": "              contractID symbol  expiration  strike  type    last    mark  \\\n0    AAPL240726C00100000   AAPL  2024-07-26   100.0  call  125.45  118.22   \n1    AAPL240726P00100000   AAPL  2024-07-26   100.0   put    0.00    0.01   \n2    AAPL240726C00105000   AAPL  2024-07-26   105.0  call    0.00  113.20   \n3    AAPL240726P00105000   AAPL  2024-07-26   105.0   put    0.00    0.01   \n4    AAPL240726C00110000   AAPL  2024-07-26   110.0  call  100.65  108.15   \n..                   ...    ...         ...     ...   ...     ...     ...   \n106  AAPL240726C00285000   AAPL  2024-07-26   285.0  call    0.01    0.01   \n107  AAPL240726P00285000   AAPL  2024-07-26   285.0   put    0.00   67.03   \n108  AAPL240726C00290000   AAPL  2024-07-26   290.0  call    0.01    0.01   \n109  AAPL240726P00290000   AAPL  2024-07-26   290.0   put    0.00   72.10   \n110  AAPL240726C00295000   AAPL  2024-07-26   295.0  call    0.01    0.01   \n\n        bid  bid_size     ask  ask_size  volume  open_interest       date  \\\n0    116.60         1  119.85        17       0             25 2024-07-24   \n1      0.00         0    0.01      3502       0             50 2024-07-24   \n2    111.45         1  114.95        17       0              0 2024-07-24   \n3      0.00         0    0.01       500       0              0 2024-07-24   \n4    106.45         1  109.85        17       0              1 2024-07-24   \n..      ...       ...     ...       ...     ...            ...        ...   \n106    0.00         0    0.01       445       0           1679 2024-07-24   \n107   65.35         2   68.70        10       0              0 2024-07-24   \n108    0.00         0    0.01      4377       5            638 2024-07-24   \n109   70.45         2   73.75         1       0              0 2024-07-24   \n110    0.00         0    0.01       100       0            114 2024-07-24   \n\n     implied_volatility    delta    gamma    theta     vega      rho  \n0               2.90194  1.00000  0.00000 -0.05328  0.00000  0.00548  \n1               3.41106 -0.00063  0.00004 -0.11118  0.00036 -0.00001  \n2               2.77953  1.00000  0.00000 -0.05595  0.00000  0.00575  \n3               3.20863 -0.00067  0.00005 -0.11063  0.00038 -0.00001  \n4               2.65713  1.00000  0.00000 -0.05861  0.00000  0.00603  \n..                  ...      ...      ...      ...      ...      ...  \n106             1.21233  0.00180  0.00029 -0.10350  0.00093  0.00002  \n107             2.07390 -0.95062  0.00304 -2.97951  0.01652 -0.01506  \n108             1.28367  0.00171  0.00027 -0.10453  0.00089  0.00002  \n109             2.22344 -0.94896  0.00291 -3.29202  0.01696 -0.01531  \n110             1.35349  0.00163  0.00024 -0.10558  0.00085  0.00002  \n\n[111 rows x 20 columns]",
      "text/html": "<div>\n<style scoped>\n    .dataframe tbody tr th:only-of-type {\n        vertical-align: middle;\n    }\n\n    .dataframe tbody tr th {\n        vertical-align: top;\n    }\n\n    .dataframe thead th {\n        text-align: right;\n    }\n</style>\n<table border=\"1\" class=\"dataframe\">\n  <thead>\n    <tr style=\"text-align: right;\">\n      <th></th>\n      <th>contractID</th>\n      <th>symbol</th>\n      <th>expiration</th>\n      <th>strike</th>\n      <th>type</th>\n      <th>last</th>\n      <th>mark</th>\n      <th>bid</th>\n      <th>bid_size</th>\n      <th>ask</th>\n      <th>ask_size</th>\n      <th>volume</th>\n      <th>open_interest</th>\n      <th>date</th>\n      <th>implied_volatility</th>\n      <th>delta</th>\n      <th>gamma</th>\n      <th>theta</th>\n      <th>vega</th>\n      <th>rho</th>\n    </tr>\n  </thead>\n  <tbody>\n    <tr>\n      <th>0</th>\n      <td>AAPL240726C00100000</td>\n      <td>AAPL</td>\n      <td>2024-07-26</td>\n      <td>100.0</td>\n      <td>call</td>\n      <td>125.45</td>\n      <td>118.22</td>\n      <td>116.60</td>\n      <td>1</td>\n      <td>119.85</td>\n      <td>17</td>\n      <td>0</td>\n      <td>25</td>\n      <td>2024-07-24</td>\n      <td>2.90194</td>\n      <td>1.00000</td>\n      <td>0.00000</td>\n      <td>-0.05328</td>\n      <td>0.00000</td>\n      <td>0.00548</td>\n    </tr>\n    <tr>\n      <th>1</th>\n      <td>AAPL240726P00100000</td>\n      <td>AAPL</td>\n      <td>2024-07-26</td>\n      <td>100.0</td>\n      <td>put</td>\n      <td>0.00</td>\n      <td>0.01</td>\n      <td>0.00</td>\n      <td>0</td>\n      <td>0.01</td>\n      <td>3502</td>\n      <td>0</td>\n      <td>50</td>\n      <td>2024-07-24</td>\n      <td>3.41106</td>\n      <td>-0.00063</td>\n      <td>0.00004</td>\n      <td>-0.11118</td>\n      <td>0.00036</td>\n      <td>-0.00001</td>\n    </tr>\n    <tr>\n      <th>2</th>\n      <td>AAPL240726C00105000</td>\n      <td>AAPL</td>\n      <td>2024-07-26</td>\n      <td>105.0</td>\n      <td>call</td>\n      <td>0.00</td>\n      <td>113.20</td>\n      <td>111.45</td>\n      <td>1</td>\n      <td>114.95</td>\n      <td>17</td>\n      <td>0</td>\n      <td>0</td>\n      <td>2024-07-24</td>\n      <td>2.77953</td>\n      <td>1.00000</td>\n      <td>0.00000</td>\n      <td>-0.05595</td>\n      <td>0.00000</td>\n      <td>0.00575</td>\n    </tr>\n    <tr>\n      <th>3</th>\n      <td>AAPL240726P00105000</td>\n      <td>AAPL</td>\n      <td>2024-07-26</td>\n      <td>105.0</td>\n      <td>put</td>\n      <td>0.00</td>\n      <td>0.01</td>\n      <td>0.00</td>\n      <td>0</td>\n      <td>0.01</td>\n      <td>500</td>\n      <td>0</td>\n      <td>0</td>\n      <td>2024-07-24</td>\n      <td>3.20863</td>\n      <td>-0.00067</td>\n      <td>0.00005</td>\n      <td>-0.11063</td>\n      <td>0.00038</td>\n      <td>-0.00001</td>\n    </tr>\n    <tr>\n      <th>4</th>\n      <td>AAPL240726C00110000</td>\n      <td>AAPL</td>\n      <td>2024-07-26</td>\n      <td>110.0</td>\n      <td>call</td>\n      <td>100.65</td>\n      <td>108.15</td>\n      <td>106.45</td>\n      <td>1</td>\n      <td>109.85</td>\n      <td>17</td>\n      <td>0</td>\n      <td>1</td>\n      <td>2024-07-24</td>\n      <td>2.65713</td>\n      <td>1.00000</td>\n      <td>0.00000</td>\n      <td>-0.05861</td>\n      <td>0.00000</td>\n      <td>0.00603</td>\n    </tr>\n    <tr>\n      <th>...</th>\n      <td>...</td>\n      <td>...</td>\n      <td>...</td>\n      <td>...</td>\n      <td>...</td>\n      <td>...</td>\n      <td>...</td>\n      <td>...</td>\n      <td>...</td>\n      <td>...</td>\n      <td>...</td>\n      <td>...</td>\n      <td>...</td>\n      <td>...</td>\n      <td>...</td>\n      <td>...</td>\n      <td>...</td>\n      <td>...</td>\n      <td>...</td>\n      <td>...</td>\n    </tr>\n    <tr>\n      <th>106</th>\n      <td>AAPL240726C00285000</td>\n      <td>AAPL</td>\n      <td>2024-07-26</td>\n      <td>285.0</td>\n      <td>call</td>\n      <td>0.01</td>\n      <td>0.01</td>\n      <td>0.00</td>\n      <td>0</td>\n      <td>0.01</td>\n      <td>445</td>\n      <td>0</td>\n      <td>1679</td>\n      <td>2024-07-24</td>\n      <td>1.21233</td>\n      <td>0.00180</td>\n      <td>0.00029</td>\n      <td>-0.10350</td>\n      <td>0.00093</td>\n      <td>0.00002</td>\n    </tr>\n    <tr>\n      <th>107</th>\n      <td>AAPL240726P00285000</td>\n      <td>AAPL</td>\n      <td>2024-07-26</td>\n      <td>285.0</td>\n      <td>put</td>\n      <td>0.00</td>\n      <td>67.03</td>\n      <td>65.35</td>\n      <td>2</td>\n      <td>68.70</td>\n      <td>10</td>\n      <td>0</td>\n      <td>0</td>\n      <td>2024-07-24</td>\n      <td>2.07390</td>\n      <td>-0.95062</td>\n      <td>0.00304</td>\n      <td>-2.97951</td>\n      <td>0.01652</td>\n      <td>-0.01506</td>\n    </tr>\n    <tr>\n      <th>108</th>\n      <td>AAPL240726C00290000</td>\n      <td>AAPL</td>\n      <td>2024-07-26</td>\n      <td>290.0</td>\n      <td>call</td>\n      <td>0.01</td>\n      <td>0.01</td>\n      <td>0.00</td>\n      <td>0</td>\n      <td>0.01</td>\n      <td>4377</td>\n      <td>5</td>\n      <td>638</td>\n      <td>2024-07-24</td>\n      <td>1.28367</td>\n      <td>0.00171</td>\n      <td>0.00027</td>\n      <td>-0.10453</td>\n      <td>0.00089</td>\n      <td>0.00002</td>\n    </tr>\n    <tr>\n      <th>109</th>\n      <td>AAPL240726P00290000</td>\n      <td>AAPL</td>\n      <td>2024-07-26</td>\n      <td>290.0</td>\n      <td>put</td>\n      <td>0.00</td>\n      <td>72.10</td>\n      <td>70.45</td>\n      <td>2</td>\n      <td>73.75</td>\n      <td>1</td>\n      <td>0</td>\n      <td>0</td>\n      <td>2024-07-24</td>\n      <td>2.22344</td>\n      <td>-0.94896</td>\n      <td>0.00291</td>\n      <td>-3.29202</td>\n      <td>0.01696</td>\n      <td>-0.01531</td>\n    </tr>\n    <tr>\n      <th>110</th>\n      <td>AAPL240726C00295000</td>\n      <td>AAPL</td>\n      <td>2024-07-26</td>\n      <td>295.0</td>\n      <td>call</td>\n      <td>0.01</td>\n      <td>0.01</td>\n      <td>0.00</td>\n      <td>0</td>\n      <td>0.01</td>\n      <td>100</td>\n      <td>0</td>\n      <td>114</td>\n      <td>2024-07-24</td>\n      <td>1.35349</td>\n      <td>0.00163</td>\n      <td>0.00024</td>\n      <td>-0.10558</td>\n      <td>0.00085</td>\n      <td>0.00002</td>\n    </tr>\n  </tbody>\n</table>\n<p>111 rows × 20 columns</p>\n</div>"
     },
     "metadata": {},
     "output_type": "display_data"
    },
    {
     "data": {
      "text/plain": "             contractID symbol  expiration  strike  type   last   mark   bid  \\\n0  GOOGL240726C00075000  GOOGL  2024-07-26    75.0  call  98.01  97.65  95.3   \n1  GOOGL240726P00075000  GOOGL  2024-07-26    75.0   put   0.00   0.01   0.0   \n2  GOOGL240726C00080000  GOOGL  2024-07-26    80.0  call  96.90  92.65  90.3   \n3  GOOGL240726P00080000  GOOGL  2024-07-26    80.0   put   0.00   0.01   0.0   \n\n   bid_size     ask  ask_size  volume  open_interest       date  \\\n0         1  100.00        20       6              1 2024-07-24   \n1         0    0.01       502       0             30 2024-07-24   \n2         1   95.00        20       0              1 2024-07-24   \n3         0    0.01        47       0              1 2024-07-24   \n\n   implied_volatility    delta    gamma    theta     vega      rho  \n0             3.02566  1.00000  0.00000 -0.03996  0.00000  0.00411  \n1             3.69779 -0.00073  0.00005 -0.10826  0.00032 -0.00001  \n2             2.87071  1.00000  0.00000 -0.04263  0.00000  0.00438  \n3             3.42524 -0.00079  0.00006 -0.10759  0.00034 -0.00001  ",
      "text/html": "<div>\n<style scoped>\n    .dataframe tbody tr th:only-of-type {\n        vertical-align: middle;\n    }\n\n    .dataframe tbody tr th {\n        vertical-align: top;\n    }\n\n    .dataframe thead th {\n        text-align: right;\n    }\n</style>\n<table border=\"1\" class=\"dataframe\">\n  <thead>\n    <tr style=\"text-align: right;\">\n      <th></th>\n      <th>contractID</th>\n      <th>symbol</th>\n      <th>expiration</th>\n      <th>strike</th>\n      <th>type</th>\n      <th>last</th>\n      <th>mark</th>\n      <th>bid</th>\n      <th>bid_size</th>\n      <th>ask</th>\n      <th>ask_size</th>\n      <th>volume</th>\n      <th>open_interest</th>\n      <th>date</th>\n      <th>implied_volatility</th>\n      <th>delta</th>\n      <th>gamma</th>\n      <th>theta</th>\n      <th>vega</th>\n      <th>rho</th>\n    </tr>\n  </thead>\n  <tbody>\n    <tr>\n      <th>0</th>\n      <td>GOOGL240726C00075000</td>\n      <td>GOOGL</td>\n      <td>2024-07-26</td>\n      <td>75.0</td>\n      <td>call</td>\n      <td>98.01</td>\n      <td>97.65</td>\n      <td>95.3</td>\n      <td>1</td>\n      <td>100.00</td>\n      <td>20</td>\n      <td>6</td>\n      <td>1</td>\n      <td>2024-07-24</td>\n      <td>3.02566</td>\n      <td>1.00000</td>\n      <td>0.00000</td>\n      <td>-0.03996</td>\n      <td>0.00000</td>\n      <td>0.00411</td>\n    </tr>\n    <tr>\n      <th>1</th>\n      <td>GOOGL240726P00075000</td>\n      <td>GOOGL</td>\n      <td>2024-07-26</td>\n      <td>75.0</td>\n      <td>put</td>\n      <td>0.00</td>\n      <td>0.01</td>\n      <td>0.0</td>\n      <td>0</td>\n      <td>0.01</td>\n      <td>502</td>\n      <td>0</td>\n      <td>30</td>\n      <td>2024-07-24</td>\n      <td>3.69779</td>\n      <td>-0.00073</td>\n      <td>0.00005</td>\n      <td>-0.10826</td>\n      <td>0.00032</td>\n      <td>-0.00001</td>\n    </tr>\n    <tr>\n      <th>2</th>\n      <td>GOOGL240726C00080000</td>\n      <td>GOOGL</td>\n      <td>2024-07-26</td>\n      <td>80.0</td>\n      <td>call</td>\n      <td>96.90</td>\n      <td>92.65</td>\n      <td>90.3</td>\n      <td>1</td>\n      <td>95.00</td>\n      <td>20</td>\n      <td>0</td>\n      <td>1</td>\n      <td>2024-07-24</td>\n      <td>2.87071</td>\n      <td>1.00000</td>\n      <td>0.00000</td>\n      <td>-0.04263</td>\n      <td>0.00000</td>\n      <td>0.00438</td>\n    </tr>\n    <tr>\n      <th>3</th>\n      <td>GOOGL240726P00080000</td>\n      <td>GOOGL</td>\n      <td>2024-07-26</td>\n      <td>80.0</td>\n      <td>put</td>\n      <td>0.00</td>\n      <td>0.01</td>\n      <td>0.0</td>\n      <td>0</td>\n      <td>0.01</td>\n      <td>47</td>\n      <td>0</td>\n      <td>1</td>\n      <td>2024-07-24</td>\n      <td>3.42524</td>\n      <td>-0.00079</td>\n      <td>0.00006</td>\n      <td>-0.10759</td>\n      <td>0.00034</td>\n      <td>-0.00001</td>\n    </tr>\n  </tbody>\n</table>\n</div>"
     },
     "metadata": {},
     "output_type": "display_data"
    }
   ],
   "source": [
    "from IPython.display import display\n",
    "\n",
    "print(len(df_demo))\n",
    "print(len(df_AAPL))\n",
    "# print(len(df_GOOGL))\n",
    "display(df_demo.head(14))\n",
    "display(df_AAPL.head(111))\n",
    "# display(df_GOOGL.head(4))\n"
   ],
   "metadata": {
    "collapsed": false,
    "ExecuteTime": {
     "end_time": "2024-07-25T07:56:17.772354900Z",
     "start_time": "2024-07-25T07:56:17.741811500Z"
    }
   },
   "id": "2b4109e3068b3da0"
  }
 ],
 "metadata": {
  "kernelspec": {
   "display_name": "Python 3",
   "language": "python",
   "name": "python3"
  },
  "language_info": {
   "codemirror_mode": {
    "name": "ipython",
    "version": 2
   },
   "file_extension": ".py",
   "mimetype": "text/x-python",
   "name": "python",
   "nbconvert_exporter": "python",
   "pygments_lexer": "ipython2",
   "version": "2.7.6"
  }
 },
 "nbformat": 4,
 "nbformat_minor": 5
}
