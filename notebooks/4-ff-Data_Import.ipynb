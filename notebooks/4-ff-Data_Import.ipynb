{
 "cells": [
  {
   "cell_type": "markdown",
   "source": [
    "The easy way to import the data; as described in https://docs.google.com/document/d/1I-yhjGPZsxon9o0TP3KIpo1pRxPDDVPA/edit"
   ],
   "metadata": {
    "collapsed": false
   },
   "id": "99a798a0052aef3f"
  },
  {
   "cell_type": "code",
   "execution_count": 1,
   "outputs": [
    {
     "name": "stdout",
     "output_type": "stream",
     "text": [
      "Data downloaded and saved to CSV files.\n"
     ]
    }
   ],
   "source": [
    " \n",
    "from alpha_vantage.timeseries import TimeSeries\n",
    "import pandas as pd\n",
    "\n",
    "# Define your API key\n",
    "api_key = 'YOUR_ALPHA_VANTAGE_API_KEY'\n",
    "\n",
    "# Create a TimeSeries object\n",
    "ts = TimeSeries(key=api_key, output_format='pandas')\n",
    "\n",
    "# Get historical data for Apple\n",
    "data, meta_data = ts.get_daily(symbol='AAPL', outputsize='full')\n",
    "data.to_csv('AAPL_historical_data.csv')\n",
    "\n",
    "# Get historical data for Google\n",
    "data, meta_data = ts.get_daily(symbol='GOOGL', outputsize='full')\n",
    "data.to_csv('GOOGL_historical_data.csv')\n",
    "\n",
    "print(\"Data downloaded and saved to CSV files.\")"
   ],
   "metadata": {
    "collapsed": false,
    "ExecuteTime": {
     "end_time": "2024-07-25T10:22:46.401220300Z",
     "start_time": "2024-07-25T10:22:43.764265400Z"
    }
   },
   "id": "b5765515bd3dd41c"
  }
 ],
 "metadata": {
  "kernelspec": {
   "display_name": "Python 3",
   "language": "python",
   "name": "python3"
  },
  "language_info": {
   "codemirror_mode": {
    "name": "ipython",
    "version": 2
   },
   "file_extension": ".py",
   "mimetype": "text/x-python",
   "name": "python",
   "nbconvert_exporter": "python",
   "pygments_lexer": "ipython2",
   "version": "2.7.6"
  }
 },
 "nbformat": 4,
 "nbformat_minor": 5
}
